{
  "nbformat": 4,
  "nbformat_minor": 0,
  "metadata": {
    "colab": {
      "provenance": [],
      "authorship_tag": "ABX9TyO0/W78enUXs1VA0UWw2lRS",
      "include_colab_link": true
    },
    "kernelspec": {
      "name": "python3",
      "display_name": "Python 3"
    },
    "language_info": {
      "name": "python"
    }
  },
  "cells": [
    {
      "cell_type": "markdown",
      "metadata": {
        "id": "view-in-github",
        "colab_type": "text"
      },
      "source": [
        "<a href=\"https://colab.research.google.com/github/Shigatsu82/colabgoogle/blob/main/Matrix.ipynb\" target=\"_parent\"><img src=\"https://colab.research.google.com/assets/colab-badge.svg\" alt=\"Open In Colab\"/></a>"
      ]
    },
    {
      "cell_type": "code",
      "execution_count": 1,
      "metadata": {
        "id": "4waVieSHAMai"
      },
      "outputs": [],
      "source": [
        "import numpy as np"
      ]
    },
    {
      "cell_type": "markdown",
      "source": [
        "# np.zeros()\n",
        "\n",
        "* np.zeros adalah fungsi yang berguna ingin membuat dummy sebuah matriks\n",
        "* Parameter pertama mengindikasin berapa banyak child array yang akan dibuat\n",
        "* Jika memasukan 2 parameter maka akan menentukan jumlah index pada child array yang ada"
      ],
      "metadata": {
        "id": "JyMkBpolC94L"
      }
    },
    {
      "cell_type": "code",
      "source": [
        "\n",
        "\n",
        "b = np.zeros(2, dtype = int)\n",
        "print(\"Matrix b : \\n\", b)\n",
        "\n",
        "a = np.zeros([2, 2], dtype = int)\n",
        "print(\"\\nMatrix a : \\n\", a)\n",
        "\n",
        "c = np.zeros([3, 3])\n",
        "print(\"\\nMatrix c : \\n\", c)\n",
        "\n",
        "d = np.zeros([4, 4])\n",
        "print(\"\\nMatrix d: \\n\", d)\n"
      ],
      "metadata": {
        "colab": {
          "base_uri": "https://localhost:8080/"
        },
        "id": "HE90wvtMA_yN",
        "outputId": "517f55c0-e613-4321-88ea-ae4e22a46f74"
      },
      "execution_count": 5,
      "outputs": [
        {
          "output_type": "stream",
          "name": "stdout",
          "text": [
            "Matrix b : \n",
            " [0 0]\n",
            "\n",
            "Matrix a : \n",
            " [[0 0]\n",
            " [0 0]]\n",
            "\n",
            "Matrix c : \n",
            " [[0. 0. 0.]\n",
            " [0. 0. 0.]\n",
            " [0. 0. 0.]]\n",
            "\n",
            "Matrix d: \n",
            " [[0. 0. 0. 0.]\n",
            " [0. 0. 0. 0.]\n",
            " [0. 0. 0. 0.]\n",
            " [0. 0. 0. 0.]]\n"
          ]
        }
      ]
    },
    {
      "cell_type": "markdown",
      "source": [
        "# Operasi Aritmatika pada Array"
      ],
      "metadata": {
        "id": "5pWEqHQvFDHv"
      }
    },
    {
      "cell_type": "code",
      "source": [
        "\n",
        "a = np.array([8, 15, 30, 170])\n",
        "b = np.array([2, 5, 10, 30])\n",
        "\n",
        "answer = a+b\n",
        "print(answer)\n",
        "\n",
        "answer = np.add(a, b)\n",
        "print(answer)\n",
        "\n",
        "c = np.array([1, 2, 3, 4])\n",
        "answer = a+b+c\n",
        "print(answer)\n",
        "\n",
        "answer = np.add(a, b, c)\n",
        "print(answer)\n",
        "#Saat menambahkan ketiga array dengan fungsi np.add(a,b,c) belum diketahui penyebab kenapa array c tidak ditambahkan bersama dengan a dan b"
      ],
      "metadata": {
        "colab": {
          "base_uri": "https://localhost:8080/"
        },
        "id": "09zjLOJsE-1-",
        "outputId": "d9581317-0306-4ae6-b4f0-2a9ff2490b77"
      },
      "execution_count": 7,
      "outputs": [
        {
          "output_type": "stream",
          "name": "stdout",
          "text": [
            "[ 10  20  40 200]\n",
            "[ 10  20  40 200]\n",
            "[ 11  22  43 204]\n",
            "[ 10  20  40 200]\n"
          ]
        }
      ]
    }
  ]
}